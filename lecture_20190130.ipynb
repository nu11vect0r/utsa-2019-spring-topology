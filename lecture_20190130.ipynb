{
  "nbformat": 4,
  "nbformat_minor": 0,
  "metadata": {
    "colab": {
      "name": "Untitled1.ipynb",
      "version": "0.3.2",
      "provenance": [],
      "include_colab_link": true
    },
    "kernelspec": {
      "name": "python3",
      "display_name": "Python 3"
    }
  },
  "cells": [
    {
      "cell_type": "markdown",
      "metadata": {
        "id": "view-in-github",
        "colab_type": "text"
      },
      "source": [
        "<a href=\"https://colab.research.google.com/github/nu11vect0r/utsa-2019-spring-topology/blob/master/lecture_20190130.ipynb\" target=\"_parent\"><img src=\"https://colab.research.google.com/assets/colab-badge.svg\" alt=\"Open In Colab\"/></a>"
      ]
    },
    {
      "metadata": {
        "id": "zIh5v3zooC1o",
        "colab_type": "text"
      },
      "cell_type": "markdown",
      "source": [
        "$\\newcommand{\\qedsymbol}{\\tag*{$\\unicode{x220E}$}}$\n",
        "$\\newcommand{\\F}{\\mathfrak{F}}$\n",
        "$\\newcommand{\\U}{\\mathfrak{U}}$\n",
        "$\\newcommand{\\G}{\\mathfrak{G}}$\n",
        "\n",
        "# Lecture 2019-01-30 Topology II\n",
        "Instructor: Jose Iovino\n",
        "\n",
        "## Łoś's Theorem\n",
        "Recall, we defined an embedding of $\\mathbb{R}$ into $\\mathbb{R}^*$ by\n",
        "\n",
        "$$\n",
        "x \\to (x, x, \\ldots)\n",
        "$$\n",
        "\n",
        "actually the equivalence class of $(x, x, \\ldots)$.  This is a 1-1 embedding.  Next, we discuss the fact that this is an *elementary embedding*, meaning these structures satisfy the \"same\" theorems.\n",
        "\n",
        "**Theorem** (A particular case of  Łoś's Theorem)\n",
        "$\\mathbb{R}^*$ and $\\mathbb{R}$ satisfy the \"same\" theorems.\n",
        "\n",
        "**Sketch of Proof.**  Intuitively, a first-order property is any logical statement that can be written using the functions that we have $(+, \\cdot)$, the relation $(<)$, and the constants $(0, 1)$, using finitely many variables and applications of the following logical symbols.\n",
        "\n",
        "* connectives: $\\wedge$ (and), $\\vee$ (or), $\\lnot$ (not),  $\\rightarrow$ (if...then...).\n",
        "* quantifiers: $\\forall$, $\\exists$\n",
        "* equality: $=$\n",
        "* parentheses: $($ and  $)$\n",
        "\n",
        "**Examples**  Here are some of the field axioms written in symbol logic.\n",
        "$$\n",
        "\\forall x \\exists y (x + y = 0) \\\\\n",
        "\\forall x (x \\neq 0 \\rightarrow \\exists y (xy = 1)) \\\\\n",
        "\\forall x \\exists y (x < y)\n",
        "$$\n",
        "\n",
        "### Formal Definition of First Order Statments and Formulas\n",
        "(For the particular structures in our theorem.)\n",
        "\n",
        "We start with a countable list of variables\n",
        "\n",
        "$$\n",
        "x, y, z, x', y', z', \\ldots\n",
        "$$\n",
        "\n",
        "### Atomic Formulas\n",
        "Any expression of the form\n",
        "\n",
        "$$\n",
        "x<y, \\quad x + y = z, \\quad x \\cdot y = z\n",
        "$$\n",
        "\n",
        "where $x, y, z$ are variables in initial list or constant symbols.\n",
        "\n",
        "### Recursive Formation Rules\n",
        "1. If $\\phi$ is a formula, then $\\lnot\\phi$ is a formula.\n",
        "2. If $\\phi$ and $\\psi$ are formulas, then $(\\phi \\wedge \\psi)$ and $(\\phi \\vee \\psi)$ are formulas.\n",
        "3. If $\\phi$ is a formula and $x$ is any variable in the list then $\\forall x (\\phi)$ and $\\exists x (\\phi)$ are also formulas.\n",
        "\n",
        "**Definition** A *first order formula* is any string of symbols build from the atomic formulas by finitely many applications of (1)-(3). \n",
        "\n",
        "**De\n",
        "\n",
        "\n",
        "\n",
        "\n",
        "\n",
        "\n",
        "\n",
        "\n",
        "\n",
        "\n",
        "\n",
        "\n",
        "\n",
        "\n",
        "\n",
        "\n",
        "\n",
        "\n",
        "\n",
        "\n",
        "\n"
      ]
    },
    {
      "metadata": {
        "id": "vG_FFaoynj5e",
        "colab_type": "text"
      },
      "cell_type": "markdown",
      "source": [
        ""
      ]
    }
  ]
}