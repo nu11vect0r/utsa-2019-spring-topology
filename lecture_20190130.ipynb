{
  "nbformat": 4,
  "nbformat_minor": 0,
  "metadata": {
    "colab": {
      "name": "Untitled1.ipynb",
      "version": "0.3.2",
      "provenance": [],
      "include_colab_link": true
    },
    "kernelspec": {
      "name": "python3",
      "display_name": "Python 3"
    }
  },
  "cells": [
    {
      "cell_type": "markdown",
      "metadata": {
        "id": "view-in-github",
        "colab_type": "text"
      },
      "source": [
        "<a href=\"https://colab.research.google.com/github/nu11vect0r/utsa-2019-spring-topology/blob/master/lecture_20190130.ipynb\" target=\"_parent\"><img src=\"https://colab.research.google.com/assets/colab-badge.svg\" alt=\"Open In Colab\"/></a>"
      ]
    },
    {
      "metadata": {
        "id": "zIh5v3zooC1o",
        "colab_type": "text"
      },
      "cell_type": "markdown",
      "source": [
        "$\\newcommand{\\qedsymbol}{\\tag*{$\\unicode{x220E}$}}$\n",
        "$\\newcommand{\\F}{\\mathfrak{F}}$\n",
        "$\\newcommand{\\U}{\\mathfrak{U}}$\n",
        "$\\newcommand{\\G}{\\mathfrak{G}}$\n",
        "\n",
        "\n",
        "$\\qedsymbol$\n",
        "\n"
      ]
    },
    {
      "metadata": {
        "id": "vG_FFaoynj5e",
        "colab_type": "text"
      },
      "cell_type": "markdown",
      "source": [
        ""
      ]
    }
  ]
}