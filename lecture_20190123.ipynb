{
 "cells": [
  {
   "cell_type": "markdown",
   "metadata": {},
   "source": [
    "$\\newcommand{\\qedsymbol}{\\tag*{$\\unicode{x220E}$}}$\n",
    "$\\newcommand{\\F}{\\mathfrak{F}}$\n",
    "$\\newcommand{\\U}{\\mathfrak{U}}$\n",
    "$\\newcommand{\\G}{\\mathfrak{G}}$\n",
    "\n",
    "# Lecture 2019-01-23 Topology II\n",
    "Instructor: Jose Iovino\n",
    "    \n",
    "**Motivating Question**: What is the limit of a family of structures?\n",
    "\n",
    "$$\n",
    "(G_i, *_i)_{i \\in I} \\rightarrow\\;?\n",
    "\\\\\n",
    "(F_i, +_i, \\cdot_i, <_i)_{i \\in I} \\rightarrow\\;?\n",
    "$$\n",
    "\n",
    "**Outline of Solution**: Put relevant information into consistent families, extend them to filters, and then extend them to ultrafilters.\n",
    "\n",
    "## Compactness\n",
    "\n",
    "__Definition__ A topological space $X$ is compact if and only if whenever $(U_\\alpha)_{\\alpha \\in A}$ is an open cover of $X$, there exists $\\alpha_1, \\ldots, \\alpha_n \\in A$ such that \n",
    "$$\n",
    "X \\subseteq U_{\\alpha_1} \\cup \\cdots \\cup U_{\\alpha_n}.\n",
    "$$\n",
    "\n",
    "__Theorem__ A topological space $X$ is compact if and only if for every family $(x_i)_{i \\in I}$ in $X$ and every ultrafilter $\\U$ on $I$ there exists $a \\in X$ such that\n",
    "$$\n",
    "x_i \\xrightarrow{\\U} a.\n",
    "$$\n",
    "\n",
    "*Proof.* $\\Rightarrow$ Suppose $\\U$ is an ultrafilter on $I$ and $(x_i)_{i \\in I}$ doesn't have a $\\U$-limit.  For each $a \\in X$ fix a neighborhood $U_a$ containing $a$ such that\n",
    "$$\n",
    "\\{i \\in I | x_i \\in U_a \\} \\not\\in \\U.\n",
    "$$\n",
    "**Exercise** Complete this direction of the proof by showing that $\\{U_a\\}_{a \\in X}$ is an open cover of $X$ with no finite subcover.\n",
    "\n",
    "$\\Leftarrow$ Suppose $\\{U_{\\alpha}\\}_{\\alpha \\in A}$ is an open cover of $X$ with no finite subcover.  The sets \n",
    "$$\n",
    "\\{ X \\backslash (U_{\\alpha_1} \\cap \\cdots \\cap U_{\\alpha_n}) | \\alpha_1, \\ldots, \\alpha_n \\in A\\}\n",
    "$$\n",
    "have the finite intersection property.  \n",
    "**Exercise** Complete this direction of the proof by finding an ultrafilter $\\U$ on $X$ that contains these sets.  Find a family $(x_i)_{i \\in i}$ such that for no $a \\in X$, \n",
    "$$\n",
    "x_i \\xrightarrow{\\U} a.\n",
    "$$\n",
    "\n",
    "### Examples of Compact Spaces\n",
    "\n",
    "\n",
    "\n",
    "\n",
    "\n",
    "\n",
    "\n",
    "\n",
    "\n"
   ]
  },
  {
   "cell_type": "code",
   "execution_count": null,
   "metadata": {},
   "outputs": [],
   "source": []
  }
 ],
 "metadata": {
  "kernelspec": {
   "display_name": "Python 3",
   "language": "python",
   "name": "python3"
  },
  "language_info": {
   "codemirror_mode": {
    "name": "ipython",
    "version": 3
   },
   "file_extension": ".py",
   "mimetype": "text/x-python",
   "name": "python",
   "nbconvert_exporter": "python",
   "pygments_lexer": "ipython3",
   "version": "3.6.8"
  }
 },
 "nbformat": 4,
 "nbformat_minor": 2
}
